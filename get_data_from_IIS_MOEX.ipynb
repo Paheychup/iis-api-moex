{
 "cells": [
  {
   "cell_type": "markdown",
   "metadata": {},
   "source": [
    "#### Получение исторических данных через информационно-статистический сервер Московской биржи IIS\n",
    "Сервер постоен на архитектуре RESTful API. Запросы будем формировать в виде URL с параметрами.\n",
    "<br>Информация о сервере доступна здесь: https://www.moex.com/a2193"
   ]
  },
  {
   "cell_type": "code",
   "execution_count": 1,
   "metadata": {},
   "outputs": [],
   "source": [
    "# импортируем необходимые модули\n",
    "import pandas as pd\n",
    "import numpy as np\n",
    "import os\n",
    "import requests"
   ]
  },
  {
   "cell_type": "markdown",
   "metadata": {},
   "source": [
    "#### Получение списка рынков\n",
    "<br>Запрос https://iss.moex.com/iss/engines.json вернет список рынков в формате json\n",
    "<br>Структуру json запроса можно визуально посмотреть используя сервис https://jsonformatter.org/"
   ]
  },
  {
   "cell_type": "code",
   "execution_count": 2,
   "metadata": {},
   "outputs": [
    {
     "name": "stdout",
     "output_type": "stream",
     "text": [
      "{'engines': {'metadata': {'id': {'type': 'int32'}, 'name': {'type': 'string', 'bytes': 45, 'max_size': 0}, 'title': {'type': 'string', 'bytes': 765, 'max_size': 0}}, 'columns': ['id', 'name', 'title'], 'data': [[1, 'stock', 'Фондовый рынок и рынок депозитов'], [2, 'state', 'Рынок ГЦБ (размещение)'], [3, 'currency', 'Валютный рынок'], [4, 'futures', 'Срочный рынок'], [5, 'commodity', 'Товарный рынок'], [6, 'interventions', 'Товарные интервенции'], [7, 'offboard', 'ОТС-система'], [9, 'agro', 'Агро'], [1012, 'otc', 'OTC Система']]}}\n"
     ]
    }
   ],
   "source": [
    "# получим список рынков engines\n",
    "url_engines='https://iss.moex.com/iss/engines.json'\n",
    "response_engines=requests.get(url_engines)\n",
    "if response_engines.status_code!=200:\n",
    "    raise ValueError(f\"Request get engines failed {response_engines.status_code}\")\n",
    "dict_engines=response_engines.json()\n",
    "print(dict_engines)"
   ]
  },
  {
   "cell_type": "code",
   "execution_count": 3,
   "metadata": {},
   "outputs": [
    {
     "name": "stdout",
     "output_type": "stream",
     "text": [
      "     id           name                             title\n",
      "0     1          stock  Фондовый рынок и рынок депозитов\n",
      "1     2          state            Рынок ГЦБ (размещение)\n",
      "2     3       currency                    Валютный рынок\n",
      "3     4        futures                     Срочный рынок\n",
      "4     5      commodity                    Товарный рынок\n",
      "5     6  interventions              Товарные интервенции\n",
      "6     7       offboard                       ОТС-система\n",
      "7     9           agro                              Агро\n",
      "8  1012            otc                       OTC Система\n"
     ]
    }
   ],
   "source": [
    "# преобразуем json в dataframe\n",
    "df_engines=pd.DataFrame(dict_engines['engines']['data'],columns=dict_engines['engines']['columns'])\n",
    "print(df_engines)"
   ]
  },
  {
   "cell_type": "markdown",
   "metadata": {},
   "source": [
    "#### Получим список торгуемых инструментов на Срочном рынке futures в классе forts\n",
    "Запрос https://iss.moex.com/iss/engines/futures/markets вернет список классов Срочного рынка\n",
    "<br>Нас интересует класс forts\n",
    "<br>Далее узнаем boardid класса forts и после этого получим список торгуемых инструментов этого класса"
   ]
  },
  {
   "cell_type": "code",
   "execution_count": 4,
   "metadata": {},
   "outputs": [],
   "source": [
    "# первый способ получения boardid через url запрос csv\n",
    "url_boardid='https://iss.moex.com/iss/engines/futures/markets/forts/boards.csv'\n",
    "boardid=pd.read_csv(url_boardid, sep=';',nrows=1,skiprows=1, encoding='windows-1251').boardid.iloc[0]"
   ]
  },
  {
   "cell_type": "code",
   "execution_count": 5,
   "metadata": {},
   "outputs": [
    {
     "name": "stdout",
     "output_type": "stream",
     "text": [
      "{'boards': {'metadata': {'id': {'type': 'int32'}, 'board_group_id': {'type': 'int32'}, 'boardid': {'type': 'string', 'bytes': 12, 'max_size': 0}, 'title': {'type': 'string', 'bytes': 381, 'max_size': 0}, 'is_traded': {'type': 'int32'}}, 'columns': ['id', 'board_group_id', 'boardid', 'title', 'is_traded'], 'data': [[101, 45, 'RFUD', 'Фьючерсы', 1]]}}\n"
     ]
    }
   ],
   "source": [
    "# второй способ получения boardid через url запрос json\n",
    "url_boardid='https://iss.moex.com/iss/engines/futures/markets/forts/boards.json'\n",
    "response_boards=requests.get(url_boardid)\n",
    "if response_boards.status_code!=200:\n",
    "    raise ValueError(f\"Request get boardid failed {response_boards.status_code}\")\n",
    "dict_boards=response_boards.json()\n",
    "print(dict_boards)"
   ]
  },
  {
   "cell_type": "code",
   "execution_count": 6,
   "metadata": {},
   "outputs": [
    {
     "name": "stdout",
     "output_type": "stream",
     "text": [
      "boardid forts: RFUD\n"
     ]
    }
   ],
   "source": [
    "# рассмотрев структуру dict_boards извлечем boradid\n",
    "boardid=dict_boards['boards']['data'][0][2]\n",
    "print('boardid forts: ' + boardid)"
   ]
  },
  {
   "cell_type": "code",
   "execution_count": 7,
   "metadata": {},
   "outputs": [],
   "source": [
    "# Формируем запрос списка инструментов Срочного рынка futures класса forts\n",
    "url_forts_sec='https://iss.moex.com/iss/engines/futures/markets/forts/boards/'+boardid+'/securities.json'\n",
    "response_forts_sec=requests.get(url_forts_sec)\n",
    "if response_forts_sec.status_code!=200:\n",
    "    raise ValueError(f\"Request get forts securities failed {response_forts_sec.status_code}\")\n",
    "dict_forts_sec=requests.get(url_forts_sec).json()\n"
   ]
  },
  {
   "cell_type": "code",
   "execution_count": 8,
   "metadata": {},
   "outputs": [
    {
     "name": "stdout",
     "output_type": "stream",
     "text": [
      "Index(['SECID', 'BOARDID', 'SHORTNAME', 'SECNAME', 'PREVSETTLEPRICE',\n",
      "       'DECIMALS', 'MINSTEP', 'LASTTRADEDATE', 'LASTDELDATE', 'SECTYPE',\n",
      "       'LATNAME', 'ASSETCODE', 'PREVOPENPOSITION', 'LOTVOLUME',\n",
      "       'INITIALMARGIN', 'HIGHLIMIT', 'LOWLIMIT', 'STEPPRICE',\n",
      "       'LASTSETTLEPRICE', 'PREVPRICE', 'IMTIME', 'BUYSELLFEE', 'SCALPERFEE',\n",
      "       'NEGOTIATEDFEE', 'EXERCISEFEE'],\n",
      "      dtype='object')\n",
      "  SECID BOARDID   SHORTNAME                         SECNAME\n",
      "0  AFM2    RFUD   AFLT-6.22   Фьючерсный контракт AFLT-6.22\n",
      "1  AFU2    RFUD   AFLT-9.22   Фьючерсный контракт AFLT-9.22\n",
      "2  AFZ2    RFUD  AFLT-12.22  Фьючерсный контракт AFLT-12.22\n",
      "3  AKM2    RFUD   AFKS-6.22   Фьючерсный контракт AFKS-6.22\n",
      "4  AKU2    RFUD   AFKS-9.22   Фьючерсный контракт AFKS-9.22\n"
     ]
    }
   ],
   "source": [
    "# создадим dataframe\n",
    "df_forts_sec=pd.DataFrame(dict_forts_sec['securities']['data'],columns=dict_forts_sec['securities']['columns'])\n",
    "print(df_forts_sec.columns)\n",
    "print(df_forts_sec[['SECID','BOARDID','SHORTNAME','SECNAME']].head())"
   ]
  },
  {
   "cell_type": "code",
   "execution_count": 9,
   "metadata": {},
   "outputs": [
    {
     "data": {
      "text/html": [
       "<div>\n",
       "<style scoped>\n",
       "    .dataframe tbody tr th:only-of-type {\n",
       "        vertical-align: middle;\n",
       "    }\n",
       "\n",
       "    .dataframe tbody tr th {\n",
       "        vertical-align: top;\n",
       "    }\n",
       "\n",
       "    .dataframe thead th {\n",
       "        text-align: right;\n",
       "    }\n",
       "</style>\n",
       "<table border=\"1\" class=\"dataframe\">\n",
       "  <thead>\n",
       "    <tr style=\"text-align: right;\">\n",
       "      <th></th>\n",
       "      <th>SECID</th>\n",
       "      <th>BOARDID</th>\n",
       "      <th>SHORTNAME</th>\n",
       "      <th>SECNAME</th>\n",
       "      <th>PREVSETTLEPRICE</th>\n",
       "      <th>DECIMALS</th>\n",
       "      <th>MINSTEP</th>\n",
       "      <th>LASTTRADEDATE</th>\n",
       "      <th>LASTDELDATE</th>\n",
       "      <th>SECTYPE</th>\n",
       "      <th>...</th>\n",
       "      <th>HIGHLIMIT</th>\n",
       "      <th>LOWLIMIT</th>\n",
       "      <th>STEPPRICE</th>\n",
       "      <th>LASTSETTLEPRICE</th>\n",
       "      <th>PREVPRICE</th>\n",
       "      <th>IMTIME</th>\n",
       "      <th>BUYSELLFEE</th>\n",
       "      <th>SCALPERFEE</th>\n",
       "      <th>NEGOTIATEDFEE</th>\n",
       "      <th>EXERCISEFEE</th>\n",
       "    </tr>\n",
       "  </thead>\n",
       "  <tbody>\n",
       "    <tr>\n",
       "      <th>284</th>\n",
       "      <td>SRH3</td>\n",
       "      <td>RFUD</td>\n",
       "      <td>SBRF-3.23</td>\n",
       "      <td>Фьючерсный контракт SBRF-3.23</td>\n",
       "      <td>13459.0</td>\n",
       "      <td>0</td>\n",
       "      <td>1.0</td>\n",
       "      <td>2023-03-16</td>\n",
       "      <td>2023-03-17</td>\n",
       "      <td>SR</td>\n",
       "      <td>...</td>\n",
       "      <td>15658.0</td>\n",
       "      <td>11598.0</td>\n",
       "      <td>1.0</td>\n",
       "      <td>13628.0</td>\n",
       "      <td>13459.0</td>\n",
       "      <td>2022-06-01 14:03:53</td>\n",
       "      <td>0.89</td>\n",
       "      <td>0.45</td>\n",
       "      <td>0.89</td>\n",
       "      <td>0.0</td>\n",
       "    </tr>\n",
       "    <tr>\n",
       "      <th>285</th>\n",
       "      <td>SRM2</td>\n",
       "      <td>RFUD</td>\n",
       "      <td>SBRF-6.22</td>\n",
       "      <td>Фьючерсный контракт SBRF-6.22</td>\n",
       "      <td>11901.0</td>\n",
       "      <td>0</td>\n",
       "      <td>1.0</td>\n",
       "      <td>2022-06-16</td>\n",
       "      <td>2022-06-17</td>\n",
       "      <td>SR</td>\n",
       "      <td>...</td>\n",
       "      <td>14091.0</td>\n",
       "      <td>10389.0</td>\n",
       "      <td>1.0</td>\n",
       "      <td>12240.0</td>\n",
       "      <td>11893.0</td>\n",
       "      <td>2022-06-01 14:03:53</td>\n",
       "      <td>0.78</td>\n",
       "      <td>0.39</td>\n",
       "      <td>0.78</td>\n",
       "      <td>0.0</td>\n",
       "    </tr>\n",
       "    <tr>\n",
       "      <th>286</th>\n",
       "      <td>SRM3</td>\n",
       "      <td>RFUD</td>\n",
       "      <td>SBRF-6.23</td>\n",
       "      <td>Фьючерсный контракт SBRF-6.23</td>\n",
       "      <td>13620.0</td>\n",
       "      <td>0</td>\n",
       "      <td>1.0</td>\n",
       "      <td>2023-06-15</td>\n",
       "      <td>2023-06-16</td>\n",
       "      <td>SR</td>\n",
       "      <td>...</td>\n",
       "      <td>15539.0</td>\n",
       "      <td>11467.0</td>\n",
       "      <td>1.0</td>\n",
       "      <td>13503.0</td>\n",
       "      <td>NaN</td>\n",
       "      <td>2022-06-01 14:03:53</td>\n",
       "      <td>0.90</td>\n",
       "      <td>0.45</td>\n",
       "      <td>0.90</td>\n",
       "      <td>0.0</td>\n",
       "    </tr>\n",
       "    <tr>\n",
       "      <th>287</th>\n",
       "      <td>SRU2</td>\n",
       "      <td>RFUD</td>\n",
       "      <td>SBRF-9.22</td>\n",
       "      <td>Фьючерсный контракт SBRF-9.22</td>\n",
       "      <td>12222.0</td>\n",
       "      <td>0</td>\n",
       "      <td>1.0</td>\n",
       "      <td>2022-09-15</td>\n",
       "      <td>2022-09-16</td>\n",
       "      <td>SR</td>\n",
       "      <td>...</td>\n",
       "      <td>14516.0</td>\n",
       "      <td>10616.0</td>\n",
       "      <td>1.0</td>\n",
       "      <td>12566.0</td>\n",
       "      <td>12201.0</td>\n",
       "      <td>2022-06-01 14:03:53</td>\n",
       "      <td>0.80</td>\n",
       "      <td>0.40</td>\n",
       "      <td>0.80</td>\n",
       "      <td>0.0</td>\n",
       "    </tr>\n",
       "    <tr>\n",
       "      <th>288</th>\n",
       "      <td>SRZ2</td>\n",
       "      <td>RFUD</td>\n",
       "      <td>SBRF-12.22</td>\n",
       "      <td>Фьючерсный контракт SBRF-12.22</td>\n",
       "      <td>12953.0</td>\n",
       "      <td>0</td>\n",
       "      <td>1.0</td>\n",
       "      <td>2022-12-15</td>\n",
       "      <td>2022-12-16</td>\n",
       "      <td>SR</td>\n",
       "      <td>...</td>\n",
       "      <td>15240.0</td>\n",
       "      <td>11190.0</td>\n",
       "      <td>1.0</td>\n",
       "      <td>13215.0</td>\n",
       "      <td>12977.0</td>\n",
       "      <td>2022-06-01 14:03:53</td>\n",
       "      <td>0.85</td>\n",
       "      <td>0.43</td>\n",
       "      <td>0.85</td>\n",
       "      <td>0.0</td>\n",
       "    </tr>\n",
       "  </tbody>\n",
       "</table>\n",
       "<p>5 rows × 25 columns</p>\n",
       "</div>"
      ],
      "text/plain": [
       "    SECID BOARDID   SHORTNAME                         SECNAME  \\\n",
       "284  SRH3    RFUD   SBRF-3.23   Фьючерсный контракт SBRF-3.23   \n",
       "285  SRM2    RFUD   SBRF-6.22   Фьючерсный контракт SBRF-6.22   \n",
       "286  SRM3    RFUD   SBRF-6.23   Фьючерсный контракт SBRF-6.23   \n",
       "287  SRU2    RFUD   SBRF-9.22   Фьючерсный контракт SBRF-9.22   \n",
       "288  SRZ2    RFUD  SBRF-12.22  Фьючерсный контракт SBRF-12.22   \n",
       "\n",
       "     PREVSETTLEPRICE  DECIMALS  MINSTEP LASTTRADEDATE LASTDELDATE SECTYPE  \\\n",
       "284          13459.0         0      1.0    2023-03-16  2023-03-17      SR   \n",
       "285          11901.0         0      1.0    2022-06-16  2022-06-17      SR   \n",
       "286          13620.0         0      1.0    2023-06-15  2023-06-16      SR   \n",
       "287          12222.0         0      1.0    2022-09-15  2022-09-16      SR   \n",
       "288          12953.0         0      1.0    2022-12-15  2022-12-16      SR   \n",
       "\n",
       "     ... HIGHLIMIT LOWLIMIT  STEPPRICE  LASTSETTLEPRICE  PREVPRICE  \\\n",
       "284  ...   15658.0  11598.0        1.0          13628.0    13459.0   \n",
       "285  ...   14091.0  10389.0        1.0          12240.0    11893.0   \n",
       "286  ...   15539.0  11467.0        1.0          13503.0        NaN   \n",
       "287  ...   14516.0  10616.0        1.0          12566.0    12201.0   \n",
       "288  ...   15240.0  11190.0        1.0          13215.0    12977.0   \n",
       "\n",
       "                  IMTIME  BUYSELLFEE  SCALPERFEE  NEGOTIATEDFEE  EXERCISEFEE  \n",
       "284  2022-06-01 14:03:53        0.89        0.45           0.89          0.0  \n",
       "285  2022-06-01 14:03:53        0.78        0.39           0.78          0.0  \n",
       "286  2022-06-01 14:03:53        0.90        0.45           0.90          0.0  \n",
       "287  2022-06-01 14:03:53        0.80        0.40           0.80          0.0  \n",
       "288  2022-06-01 14:03:53        0.85        0.43           0.85          0.0  \n",
       "\n",
       "[5 rows x 25 columns]"
      ]
     },
     "execution_count": 9,
     "metadata": {},
     "output_type": "execute_result"
    }
   ],
   "source": [
    "# выведем список инструменов содержащих символы SR\n",
    "df_forts_sec[df_forts_sec['SECID'].str.contains('SR',regex=False)]"
   ]
  },
  {
   "cell_type": "markdown",
   "metadata": {},
   "source": [
    "#### Получение данных минутных свечей по инструменту\n",
    "Для получения данных минутных свечей по инструменту нам необходимо выполнить следующие шаги:\n",
    "<ul>\n",
    "    <li>получить boardid класса инструмента</li>\n",
    "    <li>получить список торгуемых дат</li>\n",
    "    <li>получить и сохранить данные по инструменту</li>\n",
    "<ul>"
   ]
  },
  {
   "cell_type": "markdown",
   "metadata": {},
   "source": [
    "#### Функция f_get_trading_dates\n",
    "Возвращает торгуемый диапазон дат указанного инструмента\n",
    "<br>Необходимый параметр: code - код инструмента"
   ]
  },
  {
   "cell_type": "code",
   "execution_count": 26,
   "metadata": {},
   "outputs": [],
   "source": [
    "# функция для получения торгуемого диапазона дат инструмена\n",
    "#---------------------------------------------------------------------------------------------------------------------------------\n",
    "def f_get_trading_dates(code):\n",
    "    #get boardid\n",
    "    url_boardid='https://iss.moex.com/iss/engines/futures/markets/forts/boards.csv'\n",
    "    boardid=pd.read_csv(url_boardid, sep=';',nrows=1,skiprows=1, encoding='windows-1251').boardid.iloc[0]\n",
    "    #print('| code = '+code+' | boardid = '+boardid+' |')\n",
    "\n",
    "    # запрос на торговый диапазон дат по инструменту\n",
    "    url_candleborders='https://iss.moex.com/iss/engines/futures/markets/forts/boards/'+boardid+'/securities/'+code+'/candleborders.csv'\n",
    "    print('get url: ' + url_candleborders)\n",
    "    # запрашиваем данные по торговому диапазону дат инструмента и записываем в датафрейм\n",
    "    df_candleborders=pd.read_csv(url_candleborders,sep=';',nrows=1,skiprows=1, encoding='windows-1251')\n",
    "    #print(df_candleborders)\n",
    "\n",
    "    # запрашиваем интервал и даты\n",
    "    date_first=df_candleborders.begin.str[:10][0]\n",
    "    date_last=df_candleborders.end.str[:10][0]\n",
    "    interval=df_candleborders.interval[0]\n",
    "\n",
    "    dictionary = {code: {'date_first': date_first, 'date_last': date_last, 'interval': interval}}\n",
    "    #print('| code '+code+' |\\n| interval '+str(interval)+' min |\\n| date_first '+date_first+' |\\n| date_last '+date_last+' |\\n----------------------')\n",
    "    return dictionary\n",
    "#---------------------------------------------------------------------------------------------------------------------------------"
   ]
  },
  {
   "cell_type": "code",
   "execution_count": 27,
   "metadata": {},
   "outputs": [
    {
     "name": "stdout",
     "output_type": "stream",
     "text": [
      "get url: https://iss.moex.com/iss/engines/futures/markets/forts/boards/RFUD/securities/SRH9/candleborders.csv\n"
     ]
    },
    {
     "data": {
      "text/plain": [
       "{'SRH9': {'date_first': '2018-03-06',\n",
       "  'date_last': '2019-03-21',\n",
       "  'interval': 1}}"
      ]
     },
     "execution_count": 27,
     "metadata": {},
     "output_type": "execute_result"
    }
   ],
   "source": [
    "# запросим торгуемый диапазон дат инструмента SRH9\n",
    "code='SRH9'\n",
    "f_get_trading_dates(code=code)"
   ]
  },
  {
   "cell_type": "markdown",
   "metadata": {},
   "source": [
    "<b>Торгуемый диапазон дат кода инструмента SRH9:</b> <br>date_first: 2018-03-06 <br>date_last: 2019-03-21"
   ]
  },
  {
   "cell_type": "markdown",
   "metadata": {},
   "source": [
    "<b>Получим минутные свечи interval=1 по коду инструмента code='SRH9' за 2019-03-21</b>"
   ]
  },
  {
   "cell_type": "code",
   "execution_count": 28,
   "metadata": {},
   "outputs": [
    {
     "name": "stdout",
     "output_type": "stream",
     "text": [
      "    open  close   high    low  value  volume                begin  \\\n",
      "0  21057  21074  21098  21037      0     975  2019-03-21 10:00:00   \n",
      "1  21065  21091  21098  21033      0    1812  2019-03-21 10:01:00   \n",
      "2  21095  21090  21101  21079      0     862  2019-03-21 10:02:00   \n",
      "3  21099  21096  21101  21084      0     935  2019-03-21 10:03:00   \n",
      "4  21101  21102  21136  21092      0    1163  2019-03-21 10:04:00   \n",
      "\n",
      "                   end  \n",
      "0  2019-03-21 10:00:59  \n",
      "1  2019-03-21 10:01:59  \n",
      "2  2019-03-21 10:02:59  \n",
      "3  2019-03-21 10:03:59  \n",
      "4  2019-03-21 10:04:59  \n"
     ]
    }
   ],
   "source": [
    "\n",
    "url_candles = 'https://iss.moex.com/iss/engines/futures/markets/forts/boards/'+boardid+'/'\\\n",
    "                'securities/'+code+'/candles.csv?interval=1&from=2019-03-21&till=2019-03-21&start=0'\n",
    "df_url_candles = pd.read_csv(url_candles,sep=';',header=1)\n",
    "print(df_url_candles.head())"
   ]
  },
  {
   "cell_type": "markdown",
   "metadata": {},
   "source": [
    "Установим рабочую директорию для сохранения данных по инструменту"
   ]
  },
  {
   "cell_type": "code",
   "execution_count": 30,
   "metadata": {},
   "outputs": [
    {
     "name": "stdout",
     "output_type": "stream",
     "text": [
      "c:\\Users\\Administrator\\repos\\iis-api-moex\\iis-api-moex\n"
     ]
    }
   ],
   "source": [
    "#if os.getcwd()!='d:\\\\Anaconda3\\\\My_scripts\\\\IIS_Moex\\\\historyIIS\\\\': os.chdir('d:\\\\Anaconda3\\\\My_scripts\\\\IIS_Moex\\\\historyIIS\\\\')\n",
    "print(os.getcwd())"
   ]
  },
  {
   "cell_type": "markdown",
   "metadata": {},
   "source": [
    "Запрсим минутные свечи по торговому инструменту за указанный диапазон дат и сохраним в каталог рабочей директории\n",
    "<br>Для этого используем функцию <b>f_get_data_from_IIS_MOEX</b>\n",
    "<br>Необходимые параметр: <b>code</b> - код инструмента, диапазон дат <b>date_first</b> и <b>date_last</b>"
   ]
  },
  {
   "cell_type": "code",
   "execution_count": 31,
   "metadata": {},
   "outputs": [],
   "source": [
    "# функция запрашивает данные по торговому инструменту за указанный диапазон дат и сохраняет в каталог рабочей директории\n",
    "#----------------------------------------------------------------------------------------------------------------------------------\n",
    "def f_get_data_from_IIS_MOEX(code,date_first,date_last):\n",
    "    #создаем лист всех дат из диапазона [date_first, date_last]\n",
    "    date_list=[d.strftime('%Y-%m-%d') for d in pd.date_range(date_first,date_last)]\n",
    "    #создаем папку для сохранения данных\n",
    "    folder = code+'_'+ date_first +'_'+ date_last\n",
    "    #folder=code+'_'+dictionary['SiH1']['date_end_prev']+'_'+dictionary['SiH1']['date_end']\n",
    "    if not os.path.exists(folder): \n",
    "        os.makedirs(folder)\n",
    "    print('| Folder to save data: ' + os.getcwd()+'\\\\' + folder + ' |')\n",
    "    print('| Start extract data from server to |\\n| '+code+' | from '+ date_first +' | till '+ date_last +' |\\n'+45*'-')\n",
    "\n",
    "    # получаем boardid\n",
    "    url_boardid='https://iss.moex.com/iss/engines/futures/markets/forts/boards.csv'\n",
    "    boardid=pd.read_csv(url_boardid, sep=';',nrows=1,skiprows=1, encoding='windows-1251').boardid.iloc[0]\n",
    "    # цикл диапазона торгуемых дат по инструменту\n",
    "    num_of_days=0\n",
    "    #--------------------------------------------------------------------------------------------------------------------------------\n",
    "    for date in date_list:\n",
    "        print('| Get data from server: | '+code+' | '+date+' |')\n",
    "        num_of_days=num_of_days + 1\n",
    "        #----------------------------------------------------------------------------------------------------------------------------\n",
    "        #максимальный объем данных запроса с сервера - 500 строк. Чтобы извлечь все данные необходимо увеличевать значение size в цикле\n",
    "        for size in np.arange(0,501,500):\n",
    "            \n",
    "            #формируем url запрос и добавляем переменную start, т.е. с какой строки выполнить запрос занных с сервера \n",
    "            url_candles = 'https://iss.moex.com/iss/engines/futures/markets/forts/boards/'+boardid+'/'\\\n",
    "                'securities/'+code+'/candles.csv?interval=1&from='+date+'&till='+ date +'&start='+str(size)\n",
    "            #делаем url запрос и сохраняем полученные данные в датафрейм\n",
    "            df_url_candles = pd.read_csv(url_candles,sep=';',header=1)\n",
    "\n",
    "            #если за указанную дату нет данных, то переходим к следующей дате\n",
    "            if len(df_url_candles)==0 and size==0:\n",
    "                #print('! no data for date | '+ code +' | '+ date +' | go to next date |')\n",
    "                print('| ' +date + ' day off |')\n",
    "                num_of_days=num_of_days - 1\n",
    "                break\n",
    "            \n",
    "            try:\n",
    "                len(df_hist.index)\n",
    "            except:\n",
    "                df_hist=df_url_candles.copy()\n",
    "            \n",
    "            if len(df_hist.index)==0:\n",
    "                df_hist=df_url_candles.copy()\n",
    "            elif size!=0:\n",
    "                df_hist=df_hist.append(df_url_candles)\n",
    "            \n",
    "            pd.DataFrame.to_csv(df_hist, os.getcwd() +'\\\\'+ folder + '\\\\'+code+ '_'+date+'.txt',index=False,sep=';')\n",
    "        #-------------------------------------------------------------------------------------------------------------------------\n",
    "        #oчищаем данные\n",
    "        try:\n",
    "            df_hist=df_hist.iloc[0:0]\n",
    "        except:\n",
    "            pass\n",
    "    #-----------------------------------------------------------------------------------------------------------------------------\n",
    "    print('Finished extract data'+'\\nNumber of trading days: '+str(num_of_days))\n",
    "#---------------------------------------------------------------------------------------------------------------------------------"
   ]
  },
  {
   "cell_type": "code",
   "execution_count": 32,
   "metadata": {},
   "outputs": [
    {
     "name": "stdout",
     "output_type": "stream",
     "text": [
      "| Folder to save data: c:\\Users\\Administrator\\repos\\iis-api-moex\\iis-api-moex\\SRH9_2019-03-10_2019-03-21 |\n",
      "| Start extract data from server to |\n",
      "| SRH9 | from 2019-03-10 | till 2019-03-21 |\n",
      "---------------------------------------------\n",
      "| Get data from server: | SRH9 | 2019-03-10 |\n",
      "| 2019-03-10 day off |\n",
      "| Get data from server: | SRH9 | 2019-03-11 |\n",
      "| Get data from server: | SRH9 | 2019-03-12 |\n",
      "| Get data from server: | SRH9 | 2019-03-13 |\n",
      "| Get data from server: | SRH9 | 2019-03-14 |\n",
      "| Get data from server: | SRH9 | 2019-03-15 |\n",
      "| Get data from server: | SRH9 | 2019-03-16 |\n",
      "| 2019-03-16 day off |\n",
      "| Get data from server: | SRH9 | 2019-03-17 |\n",
      "| 2019-03-17 day off |\n",
      "| Get data from server: | SRH9 | 2019-03-18 |\n",
      "| Get data from server: | SRH9 | 2019-03-19 |\n",
      "| Get data from server: | SRH9 | 2019-03-20 |\n",
      "| Get data from server: | SRH9 | 2019-03-21 |\n",
      "Finished extract data\n",
      "Number of trading days: 9\n"
     ]
    }
   ],
   "source": [
    "# вызовем функцию для получения и сохранения дат за указанный диапазон\n",
    "f_get_data_from_IIS_MOEX( code=code\n",
    "                         ,date_first='2019-03-10'\n",
    "                         ,date_last='2019-03-21' )"
   ]
  },
  {
   "cell_type": "markdown",
   "metadata": {},
   "source": [
    "#### Заключение\n",
    "Мы разобрали несоклько примеров url запросов csv и json к IIS серверу Московской бирже.\n",
    "<br>Написали функции для извлечения и сохранения данных по интересующему коду инструмента за необходимый диапазон дат."
   ]
  }
 ],
 "metadata": {
  "interpreter": {
   "hash": "d52dc8c152211a05613afe5459da667f324d87ca37a70a50243aaf6f174e5a08"
  },
  "kernelspec": {
   "display_name": "Python 3.8.3 ('new_env')",
   "language": "python",
   "name": "python3"
  },
  "language_info": {
   "codemirror_mode": {
    "name": "ipython",
    "version": 3
   },
   "file_extension": ".py",
   "mimetype": "text/x-python",
   "name": "python",
   "nbconvert_exporter": "python",
   "pygments_lexer": "ipython3",
   "version": "3.10.1"
  },
  "orig_nbformat": 4
 },
 "nbformat": 4,
 "nbformat_minor": 2
}
