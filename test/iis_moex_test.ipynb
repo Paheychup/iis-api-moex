{
 "cells": [
  {
   "cell_type": "code",
   "execution_count": 1,
   "metadata": {},
   "outputs": [],
   "source": [
    "import requests\n",
    "import pandas as pd\n",
    "import numpy as np\n",
    "import os"
   ]
  },
  {
   "cell_type": "code",
   "execution_count": 2,
   "metadata": {},
   "outputs": [],
   "source": [
    "codes=['SiZ0','SiH1','SiM1','SiU1','SiZ1']"
   ]
  },
  {
   "cell_type": "code",
   "execution_count": null,
   "metadata": {},
   "outputs": [],
   "source": [
    "#get boardid\n",
    "url_boardid='https://iss.moex.com/iss/engines/futures/markets/forts/boards.csv'\n",
    "boardid=pd.read_csv(url_boardid, sep=';',nrows=1,skiprows=1, encoding='windows-1251').boardid.iloc[0]\n",
    "\n",
    "url_forts_sec='https://iss.moex.com/iss/engines/futures/markets/forts/boards/'+boardid+'/securities.json'\n",
    "dict_forts_securities=requests.get(url_forts_sec).json()\n",
    "print(dict_forts_securities['securities']['data'][0])\n",
    "print(dict_forts_securities['securities']['columns'])\n",
    "print(type(dict_forts_securities['securities']['data'][0]))"
   ]
  },
  {
   "cell_type": "code",
   "execution_count": null,
   "metadata": {},
   "outputs": [],
   "source": [
    "# create dataframe from json\n",
    "df=pd.DataFrame(dict_forts_securities['securities']['data'],columns=dict_forts_securities['securities']['columns'])\n",
    "print(df.info())\n",
    "df=df.reset_index().drop(['index'],axis=1)"
   ]
  },
  {
   "cell_type": "code",
   "execution_count": null,
   "metadata": {},
   "outputs": [],
   "source": [
    "df[df['SECID'].str.contains(r'^SR(?!$)')]\n",
    "df[df['SECID'].str.contains('SR',regex=False)]"
   ]
  },
  {
   "cell_type": "code",
   "execution_count": 2,
   "metadata": {},
   "outputs": [],
   "source": [
    "def f_get_trading_dates(code):\n",
    "    #get boardid\n",
    "    url_boardid='https://iss.moex.com/iss/engines/futures/markets/forts/boards.csv'\n",
    "    boardid=pd.read_csv(url_boardid, sep=';',nrows=1,skiprows=1, encoding='windows-1251').boardid.iloc[0]\n",
    "    #print('| code = '+code+' | boardid = '+boardid+' |')\n",
    "\n",
    "    # запрос на торговый диапазон дат по инструменту\n",
    "    url_candleborders='https://iss.moex.com/iss/engines/futures/markets/forts/boards/'+boardid+'/securities/'+code+'/candleborders.csv'\n",
    "    print('get url: ' + url_candleborders)\n",
    "    # запрашиваем данные по торговому диапазону дат инструмента и записываем в датафрейм\n",
    "    df_candleborders=pd.read_csv(url_candleborders,sep=';',nrows=1,skiprows=1)\n",
    "    #print(df_candleborders)\n",
    "\n",
    "    #extract begin date from dataframe\n",
    "    date_first=df_candleborders.begin.str[:10][0]\n",
    "    date_last=df_candleborders.end.str[:10][0]\n",
    "    interval=df_candleborders.interval[0]\n",
    "\n",
    "    dictionary = {code: {'date_first': date_first, 'date_last': date_last, 'interval': interval}}\n",
    "\n",
    "    print('code='+code+'\\ninterval='+str(interval)+' min\\ndate_begin='+date_first+'\\ndate_end='+date_last+'\\n------------------')\n",
    "    \n",
    "    return(dictionary)"
   ]
  },
  {
   "cell_type": "code",
   "execution_count": 8,
   "metadata": {},
   "outputs": [
    {
     "name": "stdout",
     "output_type": "stream",
     "text": [
      "| code = SiH1 | boardid = RFUD |\n",
      "get url: https://iss.moex.com/iss/engines/futures/markets/forts/boards/RFUD/securities/SiH1/candleborders.csv\n",
      "| interval = 1min | date_start = 2019-03-18 | date_end = 2021-03-18| \n",
      "------------------\n"
     ]
    }
   ],
   "source": [
    "dictionary=f_get_trading_dates(code='SiH1')"
   ]
  },
  {
   "cell_type": "code",
   "execution_count": 7,
   "metadata": {},
   "outputs": [
    {
     "name": "stdout",
     "output_type": "stream",
     "text": [
      "d:\\vscode\\projects\\IIS_Moex\n"
     ]
    }
   ],
   "source": [
    "print(os.getcwd())"
   ]
  },
  {
   "cell_type": "code",
   "execution_count": 11,
   "metadata": {},
   "outputs": [
    {
     "name": "stdout",
     "output_type": "stream",
     "text": [
      "d:\\Anaconda3\\My_scripts\\IIS_Moex\\historyIIS\n"
     ]
    }
   ],
   "source": [
    "#wdir=('d:\\\\Anaconda3\\\\My_scripts\\\\IIS_Moex\\\\historyIIS\\\\')\n",
    "if os.getcwd()!='d:\\\\Anaconda3\\\\My_scripts\\\\IIS_Moex\\\\historyIIS\\\\': os.chdir('d:\\\\Anaconda3\\\\My_scripts\\\\IIS_Moex\\\\historyIIS\\\\')\n",
    "print(os.getcwd())"
   ]
  },
  {
   "cell_type": "code",
   "execution_count": 40,
   "metadata": {},
   "outputs": [],
   "source": [
    "def f_get_data_from_IIS_MOEX(code,date_first,date_last):\n",
    "\n",
    "    date_list=[d.strftime('%Y-%m-%d') for d in pd.date_range(date_first,date_last)]\n",
    "    #создаем папку для сохранения данных\n",
    "    folder = code+'_'+ date_first +'_'+ date_last\n",
    "    #folder=code+'_'+dictionary['SiH1']['date_end_prev']+'_'+dictionary['SiH1']['date_end']\n",
    "    if not os.path.exists(folder): \n",
    "            os.makedirs(folder)\n",
    "            print('| Folder to save data: ' + os.getcwd()+'\\\\' + folder + ' |')\n",
    "\n",
    "    print('| Start extract data from server |\\n| '+code+' | from '+ date_first +' | till '+ date_last +' |\\n'+45*'-')\n",
    "\n",
    "    # цикл диапазона торгуемых дат по инструменту\n",
    "    num_of_days=0\n",
    "    #----------------------------------------------------------------------------------------------------------------------------\n",
    "    for date in date_list:\n",
    "        print('| Get data from server: | '+code+' | '+date+' |')\n",
    "        num_of_days=num_of_days + 1\n",
    "        #----------------------------------------------------------------------------------------------------------------------------\n",
    "        #максимальный объем данных запроса с сервера - 500 строк. Чтобы извлечь все данные необходимо увеличевать значение size в цикле\n",
    "        for size in np.arange(0,501,500):\n",
    "            \n",
    "            #формируем url запрос и добавляем переменную start, т.е. с какой строки выполнить запрос занных с сервера \n",
    "            url_candles = 'https://iss.moex.com/iss/engines/futures/markets/forts/boards/FOB/'\\\n",
    "                'securities/'+code+'/candles.csv?interval=1&from='+date+'&till='+ date +'&start='+str(size)\n",
    "            #делаем url запрос и сохраняем полученные данные в датафрейм\n",
    "            df_url_candles = pd.read_csv(url_candles,sep=';',header=1)\n",
    "\n",
    "            #если за указанную дату нет данных, то переходим к следующей дате\n",
    "            if len(df_url_candles)==0 and size==0:\n",
    "                #print('! no data for date | '+ code +' | '+ date +' | go to next date |')\n",
    "                num_of_days=num_of_days - 1\n",
    "                break\n",
    "            \n",
    "            try:\n",
    "                len(df_hist.index)\n",
    "            except:\n",
    "                df_hist=df_url_candles.copy()\n",
    "            \n",
    "            if len(df_hist.index)==0:\n",
    "                df_hist=df_url_candles.copy()\n",
    "            elif size!=0:\n",
    "                df_hist=df_hist.append(df_url_candles)\n",
    "            \n",
    "            pd.DataFrame.to_csv(df_hist, os.getcwd() +'\\\\'+ folder + '\\\\'+code+ '_'+date+'.txt',index=False,sep=';')\n",
    "        #print(num_of_days*'.')\n",
    "        #----------------------------------------------------------------------------------------------------------------------------\n",
    "        #oчищаем данные\n",
    "        df_hist=df_hist.iloc[0:0]\n",
    "    #----------------------------------------------------------------------------------------------------------------------------   \n",
    "    print('Finished extract data'+'\\nNumber of trading days: '+str(num_of_days))"
   ]
  },
  {
   "cell_type": "code",
   "execution_count": 41,
   "metadata": {},
   "outputs": [
    {
     "name": "stdout",
     "output_type": "stream",
     "text": [
      "| Start extract data from server |\n",
      "| SiH1 | from 2020-12-16 | till 2021-03-18 |\n",
      "---------------------------------------------\n",
      "| Get data from server: | SiH1 | 2020-12-16 |\n",
      "| Get data from server: | SiH1 | 2020-12-17 |\n",
      "| Get data from server: | SiH1 | 2020-12-18 |\n",
      "| Get data from server: | SiH1 | 2020-12-19 |\n",
      "| Get data from server: | SiH1 | 2020-12-20 |\n",
      "| Get data from server: | SiH1 | 2020-12-21 |\n",
      "| Get data from server: | SiH1 | 2020-12-22 |\n",
      "| Get data from server: | SiH1 | 2020-12-23 |\n",
      "| Get data from server: | SiH1 | 2020-12-24 |\n",
      "| Get data from server: | SiH1 | 2020-12-25 |\n",
      "| Get data from server: | SiH1 | 2020-12-26 |\n",
      "| Get data from server: | SiH1 | 2020-12-27 |\n",
      "| Get data from server: | SiH1 | 2020-12-28 |\n",
      "| Get data from server: | SiH1 | 2020-12-29 |\n",
      "| Get data from server: | SiH1 | 2020-12-30 |\n",
      "| Get data from server: | SiH1 | 2020-12-31 |\n",
      "| Get data from server: | SiH1 | 2021-01-01 |\n",
      "| Get data from server: | SiH1 | 2021-01-02 |\n",
      "| Get data from server: | SiH1 | 2021-01-03 |\n",
      "| Get data from server: | SiH1 | 2021-01-04 |\n",
      "| Get data from server: | SiH1 | 2021-01-05 |\n",
      "| Get data from server: | SiH1 | 2021-01-06 |\n",
      "| Get data from server: | SiH1 | 2021-01-07 |\n",
      "| Get data from server: | SiH1 | 2021-01-08 |\n",
      "| Get data from server: | SiH1 | 2021-01-09 |\n",
      "| Get data from server: | SiH1 | 2021-01-10 |\n",
      "| Get data from server: | SiH1 | 2021-01-11 |\n",
      "| Get data from server: | SiH1 | 2021-01-12 |\n",
      "| Get data from server: | SiH1 | 2021-01-13 |\n",
      "| Get data from server: | SiH1 | 2021-01-14 |\n",
      "| Get data from server: | SiH1 | 2021-01-15 |\n",
      "| Get data from server: | SiH1 | 2021-01-16 |\n",
      "| Get data from server: | SiH1 | 2021-01-17 |\n",
      "| Get data from server: | SiH1 | 2021-01-18 |\n",
      "| Get data from server: | SiH1 | 2021-01-19 |\n",
      "| Get data from server: | SiH1 | 2021-01-20 |\n",
      "| Get data from server: | SiH1 | 2021-01-21 |\n",
      "| Get data from server: | SiH1 | 2021-01-22 |\n",
      "| Get data from server: | SiH1 | 2021-01-23 |\n",
      "| Get data from server: | SiH1 | 2021-01-24 |\n",
      "| Get data from server: | SiH1 | 2021-01-25 |\n",
      "| Get data from server: | SiH1 | 2021-01-26 |\n",
      "| Get data from server: | SiH1 | 2021-01-27 |\n",
      "| Get data from server: | SiH1 | 2021-01-28 |\n",
      "| Get data from server: | SiH1 | 2021-01-29 |\n",
      "| Get data from server: | SiH1 | 2021-01-30 |\n",
      "| Get data from server: | SiH1 | 2021-01-31 |\n",
      "| Get data from server: | SiH1 | 2021-02-01 |\n",
      "| Get data from server: | SiH1 | 2021-02-02 |\n",
      "| Get data from server: | SiH1 | 2021-02-03 |\n",
      "| Get data from server: | SiH1 | 2021-02-04 |\n",
      "| Get data from server: | SiH1 | 2021-02-05 |\n",
      "| Get data from server: | SiH1 | 2021-02-06 |\n",
      "| Get data from server: | SiH1 | 2021-02-07 |\n",
      "| Get data from server: | SiH1 | 2021-02-08 |\n",
      "| Get data from server: | SiH1 | 2021-02-09 |\n",
      "| Get data from server: | SiH1 | 2021-02-10 |\n",
      "| Get data from server: | SiH1 | 2021-02-11 |\n",
      "| Get data from server: | SiH1 | 2021-02-12 |\n",
      "| Get data from server: | SiH1 | 2021-02-13 |\n",
      "| Get data from server: | SiH1 | 2021-02-14 |\n",
      "| Get data from server: | SiH1 | 2021-02-15 |\n",
      "| Get data from server: | SiH1 | 2021-02-16 |\n",
      "| Get data from server: | SiH1 | 2021-02-17 |\n",
      "| Get data from server: | SiH1 | 2021-02-18 |\n",
      "| Get data from server: | SiH1 | 2021-02-19 |\n",
      "| Get data from server: | SiH1 | 2021-02-20 |\n",
      "| Get data from server: | SiH1 | 2021-02-21 |\n",
      "| Get data from server: | SiH1 | 2021-02-22 |\n",
      "| Get data from server: | SiH1 | 2021-02-23 |\n",
      "| Get data from server: | SiH1 | 2021-02-24 |\n",
      "| Get data from server: | SiH1 | 2021-02-25 |\n",
      "| Get data from server: | SiH1 | 2021-02-26 |\n",
      "| Get data from server: | SiH1 | 2021-02-27 |\n",
      "| Get data from server: | SiH1 | 2021-02-28 |\n",
      "| Get data from server: | SiH1 | 2021-03-01 |\n",
      "| Get data from server: | SiH1 | 2021-03-02 |\n",
      "| Get data from server: | SiH1 | 2021-03-03 |\n",
      "| Get data from server: | SiH1 | 2021-03-04 |\n",
      "| Get data from server: | SiH1 | 2021-03-05 |\n",
      "| Get data from server: | SiH1 | 2021-03-06 |\n",
      "| Get data from server: | SiH1 | 2021-03-07 |\n",
      "| Get data from server: | SiH1 | 2021-03-08 |\n",
      "| Get data from server: | SiH1 | 2021-03-09 |\n",
      "| Get data from server: | SiH1 | 2021-03-10 |\n",
      "| Get data from server: | SiH1 | 2021-03-11 |\n",
      "| Get data from server: | SiH1 | 2021-03-12 |\n",
      "| Get data from server: | SiH1 | 2021-03-13 |\n",
      "| Get data from server: | SiH1 | 2021-03-14 |\n",
      "| Get data from server: | SiH1 | 2021-03-15 |\n",
      "| Get data from server: | SiH1 | 2021-03-16 |\n",
      "| Get data from server: | SiH1 | 2021-03-17 |\n",
      "| Get data from server: | SiH1 | 2021-03-18 |\n",
      "Finished extract data\n",
      "Number of trading days: 63\n"
     ]
    }
   ],
   "source": [
    "f_get_data_from_IIS_MOEX( code='SiH1'\n",
    "                         ,date_first='2020-12-16'\n",
    "                         ,date_last='2021-03-18' )"
   ]
  },
  {
   "cell_type": "code",
   "execution_count": 4,
   "metadata": {},
   "outputs": [
    {
     "name": "stdout",
     "output_type": "stream",
     "text": [
      "https://iss.moex.com/iss/engines/futures/markets/forts/boards/RFUD/securities/SiH1/candleborders.csv\n",
      "                 begin                  end  interval\n",
      "0  2019-03-18 20:48:00  2021-03-18 13:59:00         1\n"
     ]
    }
   ],
   "source": [
    "#get max and min date for contracts\n",
    "code='SiH1'\n",
    "url_candleborders='https://iss.moex.com/iss/engines/futures/markets/forts/boards/RFUD/securities/'+code+'/candleborders.csv'\n",
    "print(url_candleborders)\n",
    "df_candleborders=pd.read_csv(url_candleborders,sep=';',nrows=1,skiprows=1)\n",
    "print(df_candleborders)"
   ]
  },
  {
   "cell_type": "code",
   "execution_count": 10,
   "metadata": {},
   "outputs": [
    {
     "name": "stdout",
     "output_type": "stream",
     "text": [
      "error\n"
     ]
    }
   ],
   "source": [
    "'''\n",
    "if 'dict' in locals():\n",
    "  print('exists')\n",
    "date_end_prev=None\n",
    "if date_end_prev is None:\n",
    "  print('date_end_prev var is None')\n",
    "\n",
    "if 'date_end_prev' not in locals():\n",
    "  print('error')\n",
    "'''"
   ]
  },
  {
   "cell_type": "code",
   "execution_count": 5,
   "metadata": {},
   "outputs": [
    {
     "name": "stdout",
     "output_type": "stream",
     "text": [
      "SiZ0\n",
      "https://iss.moex.com/iss/engines/futures/markets/forts/boards/RFUD/securities/SiZ0/candleborders.csv\n",
      "code=SiZ0\n",
      "interval=1\n",
      "date_begin=2018-12-19\n",
      "date_end=2020-12-17\n",
      "------------------\n",
      "SiH1\n",
      "https://iss.moex.com/iss/engines/futures/markets/forts/boards/RFUD/securities/SiH1/candleborders.csv\n",
      "code=SiH1\n",
      "interval=1\n",
      "date_begin=2019-03-18\n",
      "date_end=2021-03-18\n",
      "------------------\n",
      "SiM1\n",
      "https://iss.moex.com/iss/engines/futures/markets/forts/boards/RFUD/securities/SiM1/candleborders.csv\n",
      "code=SiM1\n",
      "interval=1\n",
      "date_begin=2019-06-20\n",
      "date_end=2021-06-17\n",
      "------------------\n",
      "SiU1\n",
      "https://iss.moex.com/iss/engines/futures/markets/forts/boards/RFUD/securities/SiU1/candleborders.csv\n",
      "code=SiU1\n",
      "interval=1\n",
      "date_begin=2019-09-16\n",
      "date_end=2021-09-16\n",
      "------------------\n",
      "SiZ1\n",
      "https://iss.moex.com/iss/engines/futures/markets/forts/boards/RFUD/securities/SiZ1/candleborders.csv\n",
      "code=SiZ1\n",
      "interval=1\n",
      "date_begin=2019-12-13\n",
      "date_end=2021-12-16\n",
      "------------------\n",
      "{'SiZ0': {'date_begin': '2018-12-19', 'date_end_prev': '2020-12-17', 'date_end': '2020-12-17', 'interval': 1}, 'SiH1': {'date_begin': '2019-03-18', 'date_end_prev': '2020-12-17', 'date_end': '2021-03-18', 'interval': 1}, 'SiM1': {'date_begin': '2019-06-20', 'date_end_prev': '2021-03-18', 'date_end': '2021-06-17', 'interval': 1}, 'SiU1': {'date_begin': '2019-09-16', 'date_end_prev': '2021-06-17', 'date_end': '2021-09-16', 'interval': 1}, 'SiZ1': {'date_begin': '2019-12-13', 'date_end_prev': '2021-09-16', 'date_end': '2021-12-16', 'interval': 1}}\n"
     ]
    }
   ],
   "source": [
    "\n",
    "#df = pd.DataFrame(columns=['code', 'date_begin', 'date_end','date_end_prev'])\n",
    "#dictionary={}\n",
    "for code in codes:\n",
    "    print(code)\n",
    "    # запрос на торговый диапазон дат по инструменту\n",
    "    url_candleborders='https://iss.moex.com/iss/engines/futures/markets/forts/boards/RFUD/securities/'+code+'/candleborders.csv'\n",
    "    print('get url: ' + url_candleborders)\n",
    "    # запрашиваем данные по торговому диапазону дат инструмента и записываем в датафрейм\n",
    "    df_candleborders=pd.read_csv(url_candleborders,sep=';',nrows=1,skiprows=1)\n",
    "    #print(df_candleborders)\n",
    "\n",
    "    if 'date_end_prev' not in locals():\n",
    "        date_end_prev=df_candleborders.end.str[:10][0]\n",
    "    else:\n",
    "        date_end_prev=date_end\n",
    "\n",
    "    #extract begin date from dataframe\n",
    "    date_begin=df_candleborders.begin.str[:10][0]\n",
    "    date_end=df_candleborders.end.str[:10][0]\n",
    "    interval=df_candleborders.interval[0]\n",
    "\n",
    "    if not dictionary:\n",
    "        dictionary = {code: {'date_begin': date_begin, 'date_end_prev': date_end_prev, 'date_end': date_end}}\n",
    "    else:\n",
    "        dictionary.update({code: {'date_begin': date_begin, 'date_end_prev': date_end_prev, 'date_end': date_end}})\n",
    "    '''\n",
    "    if 'dict' in locals():\n",
    "        dict.update({code: {'date_begin': date_begin, 'date_end_prev': date_end_prev, 'date_end': date_end}})\n",
    "    else: dict = {code: {'date_begin': date_begin, 'date_end_prev': date_end_prev, 'date_end': date_end}}\n",
    "    \n",
    "    df = df.append({'code' : code, 'date_begin' : date_begin, 'date_end_prev' : date_end_prev, 'date_end' : date_end}, \n",
    "                ignore_index = True)\n",
    "    '''\n",
    "    print('code='+code+'\\ninterval='+str(interval)+' min\\ndate_begin='+date_begin+'\\ndate_end='+date_end+'\\n------------------')\n",
    "\n",
    "del date_begin,date_end\n"
   ]
  },
  {
   "cell_type": "code",
   "execution_count": 6,
   "metadata": {},
   "outputs": [
    {
     "data": {
      "text/plain": [
       "{'date_begin': '2019-03-18',\n",
       " 'date_end_prev': '2020-12-17',\n",
       " 'date_end': '2021-03-18',\n",
       " 'interval': 1}"
      ]
     },
     "execution_count": 6,
     "metadata": {},
     "output_type": "execute_result"
    }
   ],
   "source": [
    "code='SiH1'\n",
    "dictionary[code]\n",
    "#dictionary['SiH1']"
   ]
  },
  {
   "cell_type": "code",
   "execution_count": 8,
   "metadata": {},
   "outputs": [
    {
     "name": "stdout",
     "output_type": "stream",
     "text": [
      "['2020-12-17', '2020-12-18', '2020-12-19', '2020-12-20', '2020-12-21', '2020-12-22', '2020-12-23', '2020-12-24', '2020-12-25', '2020-12-26', '2020-12-27', '2020-12-28', '2020-12-29', '2020-12-30', '2020-12-31', '2021-01-01', '2021-01-02', '2021-01-03', '2021-01-04', '2021-01-05', '2021-01-06', '2021-01-07', '2021-01-08', '2021-01-09', '2021-01-10', '2021-01-11', '2021-01-12', '2021-01-13', '2021-01-14', '2021-01-15', '2021-01-16', '2021-01-17', '2021-01-18', '2021-01-19', '2021-01-20', '2021-01-21', '2021-01-22', '2021-01-23', '2021-01-24', '2021-01-25', '2021-01-26', '2021-01-27', '2021-01-28', '2021-01-29', '2021-01-30', '2021-01-31', '2021-02-01', '2021-02-02', '2021-02-03', '2021-02-04', '2021-02-05', '2021-02-06', '2021-02-07', '2021-02-08', '2021-02-09', '2021-02-10', '2021-02-11', '2021-02-12', '2021-02-13', '2021-02-14', '2021-02-15', '2021-02-16', '2021-02-17', '2021-02-18', '2021-02-19', '2021-02-20', '2021-02-21', '2021-02-22', '2021-02-23', '2021-02-24', '2021-02-25', '2021-02-26', '2021-02-27', '2021-02-28', '2021-03-01', '2021-03-02', '2021-03-03', '2021-03-04', '2021-03-05', '2021-03-06', '2021-03-07', '2021-03-08', '2021-03-09', '2021-03-10', '2021-03-11', '2021-03-12', '2021-03-13', '2021-03-14', '2021-03-15', '2021-03-16', '2021-03-17', '2021-03-18']\n"
     ]
    }
   ],
   "source": [
    "date_list=[d.strftime('%Y-%m-%d') for d in pd.date_range(dictionary[code]['date_end_prev'],dictionary[code]['date_end'])]\n",
    "#date_list=[d.strftime('%Y-%m-%d') for d in pd.date_range(dictionary['SiH1']['date_end_prev'],dictionary['SiH1']['date_end'])]\n",
    "print(date_list)\n"
   ]
  },
  {
   "cell_type": "code",
   "execution_count": 9,
   "metadata": {},
   "outputs": [
    {
     "name": "stdout",
     "output_type": "stream",
     "text": [
      " | SiH1 | 2020-12-17 | 2021-03-18\n",
      "------------------\n",
      "get data from server: | SiH1 | 2020-12-17 |\n",
      "get data from server: | SiH1 | 2020-12-18 |\n",
      "get data from server: | SiH1 | 2020-12-19 |\n",
      "! no data for date 2020-12-19 | go to next date |\n",
      "get data from server: | SiH1 | 2020-12-20 |\n",
      "! no data for date 2020-12-20 | go to next date |\n",
      "get data from server: | SiH1 | 2020-12-21 |\n",
      "get data from server: | SiH1 | 2020-12-22 |\n",
      "get data from server: | SiH1 | 2020-12-23 |\n",
      "get data from server: | SiH1 | 2020-12-24 |\n",
      "get data from server: | SiH1 | 2020-12-25 |\n",
      "get data from server: | SiH1 | 2020-12-26 |\n",
      "! no data for date 2020-12-26 | go to next date |\n",
      "get data from server: | SiH1 | 2020-12-27 |\n",
      "! no data for date 2020-12-27 | go to next date |\n",
      "get data from server: | SiH1 | 2020-12-28 |\n",
      "get data from server: | SiH1 | 2020-12-29 |\n",
      "get data from server: | SiH1 | 2020-12-30 |\n",
      "get data from server: | SiH1 | 2020-12-31 |\n",
      "! no data for date 2020-12-31 | go to next date |\n",
      "get data from server: | SiH1 | 2021-01-01 |\n",
      "! no data for date 2021-01-01 | go to next date |\n",
      "get data from server: | SiH1 | 2021-01-02 |\n",
      "! no data for date 2021-01-02 | go to next date |\n",
      "get data from server: | SiH1 | 2021-01-03 |\n",
      "! no data for date 2021-01-03 | go to next date |\n",
      "get data from server: | SiH1 | 2021-01-04 |\n",
      "get data from server: | SiH1 | 2021-01-05 |\n",
      "get data from server: | SiH1 | 2021-01-06 |\n",
      "get data from server: | SiH1 | 2021-01-07 |\n",
      "! no data for date 2021-01-07 | go to next date |\n",
      "get data from server: | SiH1 | 2021-01-08 |\n",
      "get data from server: | SiH1 | 2021-01-09 |\n",
      "! no data for date 2021-01-09 | go to next date |\n",
      "get data from server: | SiH1 | 2021-01-10 |\n",
      "! no data for date 2021-01-10 | go to next date |\n",
      "get data from server: | SiH1 | 2021-01-11 |\n",
      "get data from server: | SiH1 | 2021-01-12 |\n",
      "get data from server: | SiH1 | 2021-01-13 |\n",
      "get data from server: | SiH1 | 2021-01-14 |\n",
      "get data from server: | SiH1 | 2021-01-15 |\n",
      "get data from server: | SiH1 | 2021-01-16 |\n",
      "! no data for date 2021-01-16 | go to next date |\n",
      "get data from server: | SiH1 | 2021-01-17 |\n",
      "! no data for date 2021-01-17 | go to next date |\n",
      "get data from server: | SiH1 | 2021-01-18 |\n",
      "get data from server: | SiH1 | 2021-01-19 |\n",
      "get data from server: | SiH1 | 2021-01-20 |\n",
      "get data from server: | SiH1 | 2021-01-21 |\n",
      "get data from server: | SiH1 | 2021-01-22 |\n",
      "get data from server: | SiH1 | 2021-01-23 |\n",
      "! no data for date 2021-01-23 | go to next date |\n",
      "get data from server: | SiH1 | 2021-01-24 |\n",
      "! no data for date 2021-01-24 | go to next date |\n",
      "get data from server: | SiH1 | 2021-01-25 |\n",
      "get data from server: | SiH1 | 2021-01-26 |\n",
      "get data from server: | SiH1 | 2021-01-27 |\n",
      "get data from server: | SiH1 | 2021-01-28 |\n",
      "get data from server: | SiH1 | 2021-01-29 |\n",
      "get data from server: | SiH1 | 2021-01-30 |\n",
      "! no data for date 2021-01-30 | go to next date |\n",
      "get data from server: | SiH1 | 2021-01-31 |\n",
      "! no data for date 2021-01-31 | go to next date |\n",
      "get data from server: | SiH1 | 2021-02-01 |\n",
      "get data from server: | SiH1 | 2021-02-02 |\n",
      "get data from server: | SiH1 | 2021-02-03 |\n",
      "get data from server: | SiH1 | 2021-02-04 |\n",
      "get data from server: | SiH1 | 2021-02-05 |\n",
      "get data from server: | SiH1 | 2021-02-06 |\n",
      "! no data for date 2021-02-06 | go to next date |\n",
      "get data from server: | SiH1 | 2021-02-07 |\n",
      "! no data for date 2021-02-07 | go to next date |\n",
      "get data from server: | SiH1 | 2021-02-08 |\n",
      "get data from server: | SiH1 | 2021-02-09 |\n",
      "get data from server: | SiH1 | 2021-02-10 |\n",
      "get data from server: | SiH1 | 2021-02-11 |\n",
      "get data from server: | SiH1 | 2021-02-12 |\n",
      "get data from server: | SiH1 | 2021-02-13 |\n",
      "! no data for date 2021-02-13 | go to next date |\n",
      "get data from server: | SiH1 | 2021-02-14 |\n",
      "! no data for date 2021-02-14 | go to next date |\n",
      "get data from server: | SiH1 | 2021-02-15 |\n",
      "get data from server: | SiH1 | 2021-02-16 |\n",
      "get data from server: | SiH1 | 2021-02-17 |\n",
      "get data from server: | SiH1 | 2021-02-18 |\n",
      "get data from server: | SiH1 | 2021-02-19 |\n",
      "get data from server: | SiH1 | 2021-02-20 |\n",
      "get data from server: | SiH1 | 2021-02-21 |\n",
      "! no data for date 2021-02-21 | go to next date |\n",
      "get data from server: | SiH1 | 2021-02-22 |\n",
      "get data from server: | SiH1 | 2021-02-23 |\n",
      "! no data for date 2021-02-23 | go to next date |\n",
      "get data from server: | SiH1 | 2021-02-24 |\n",
      "get data from server: | SiH1 | 2021-02-25 |\n",
      "get data from server: | SiH1 | 2021-02-26 |\n",
      "get data from server: | SiH1 | 2021-02-27 |\n",
      "! no data for date 2021-02-27 | go to next date |\n",
      "get data from server: | SiH1 | 2021-02-28 |\n",
      "! no data for date 2021-02-28 | go to next date |\n",
      "get data from server: | SiH1 | 2021-03-01 |\n",
      "get data from server: | SiH1 | 2021-03-02 |\n",
      "get data from server: | SiH1 | 2021-03-03 |\n",
      "get data from server: | SiH1 | 2021-03-04 |\n",
      "get data from server: | SiH1 | 2021-03-05 |\n",
      "get data from server: | SiH1 | 2021-03-06 |\n",
      "! no data for date 2021-03-06 | go to next date |\n",
      "get data from server: | SiH1 | 2021-03-07 |\n",
      "! no data for date 2021-03-07 | go to next date |\n",
      "get data from server: | SiH1 | 2021-03-08 |\n",
      "! no data for date 2021-03-08 | go to next date |\n",
      "get data from server: | SiH1 | 2021-03-09 |\n",
      "get data from server: | SiH1 | 2021-03-10 |\n",
      "get data from server: | SiH1 | 2021-03-11 |\n",
      "get data from server: | SiH1 | 2021-03-12 |\n",
      "get data from server: | SiH1 | 2021-03-13 |\n",
      "! no data for date 2021-03-13 | go to next date |\n",
      "get data from server: | SiH1 | 2021-03-14 |\n",
      "! no data for date 2021-03-14 | go to next date |\n",
      "get data from server: | SiH1 | 2021-03-15 |\n",
      "get data from server: | SiH1 | 2021-03-16 |\n",
      "get data from server: | SiH1 | 2021-03-17 |\n",
      "get data from server: | SiH1 | 2021-03-18 |\n",
      "! no data for date 2021-03-18 | go to next date |\n"
     ]
    }
   ],
   "source": [
    "#создаем папку для сохранения данных\n",
    "folder = code+'_'+dictionary[code]['date_end_prev']+'_'+dictionary[code]['date_end']\n",
    "#folder=code+'_'+dictionary['SiH1']['date_end_prev']+'_'+dictionary['SiH1']['date_end']\n",
    "if not os.path.exists(folder): \n",
    "        os.makedirs(folder)\n",
    "        print('folder to save data : ' + folder )\n",
    "\n",
    "print(' | '+code+' | '+dictionary[code]['date_end_prev']+' | '+dictionary[code]['date_end']+'\\n------------------')\n",
    "\n",
    "# цикл диапазона торгуемых дат по инструменту\n",
    "for date in date_list:\n",
    "    print('get data from server: | '+code+' | '+date+' |')\n",
    "    #url для запроса get данных\n",
    "    url_candles = 'https://iss.moex.com/iss/engines/futures/markets/forts/boards/FOB/'\\\n",
    "    'securities/'+code+'/candles.csv?interval=1&from='+date+'&till='+ date +'&start='\n",
    "\n",
    "    #максимальный объем данных - 500 строк. Чтобы извлечь все данные необходимо увеличевать значение size в цикле\n",
    "    for size in np.arange(0,501,500):\n",
    "        \n",
    "        #добавляем к url запросу переменную start, т.е. с какой строки выполнить запрос занных с сервера \n",
    "        url_candles=url_candles+str(size)\n",
    "        #делаем url запрос и сохраняем полученные данные в датафрейм\n",
    "        df_url_candles = pd.read_csv(url_candles,sep=';',header=1)\n",
    "\n",
    "        #если за указанную дату нет данных, то переходим к следующей дате\n",
    "        if len(df_url_candles)==0:\n",
    "            print('! no data for date | '+code+' | '+date+' | go to next date |')\n",
    "            break\n",
    "        \n",
    "        try:\n",
    "            len(df_hist.index)\n",
    "        except:\n",
    "            df_hist=df_url_candles.copy()\n",
    "        \n",
    "        if len(df_hist.index)==0:\n",
    "            df_hist=df_url_candles.copy()\n",
    "        elif size!=0:\n",
    "            df_hist=df_hist.append(df_url_candles)\n",
    "\n",
    "        pd.DataFrame.to_csv(df_hist, os.getcwd() +'\\\\'+ folder + '\\\\'+code+ '_'+date+'.txt',index=False,sep=';')\n",
    "        #pd.DataFrame.to_csv(df_hist,os.getcwd() + folder +'\\\\'+dateFrom+'_'+code+ '.txt',index=False,sep=';')\n",
    "    #print(df_url_candles)\n",
    "    #print(len(df_url_candles))"
   ]
  },
  {
   "cell_type": "code",
   "execution_count": 102,
   "metadata": {},
   "outputs": [
    {
     "name": "stdout",
     "output_type": "stream",
     "text": [
      "Empty DataFrame\n",
      "Columns: [open, close, high, low, value, volume, begin, end]\n",
      "Index: []\n",
      "0\n"
     ]
    }
   ],
   "source": [
    "code='SiH1'\n",
    "dateFrom='2020-12-19'\n",
    "dateTill='2020-12-19'\n",
    "url_candles = 'https://iss.moex.com/iss/engines/futures/markets/forts/boards/FOB/'\\\n",
    "    'securities/'+code+'/candles.csv?interval=1&from='+dateFrom+'&till='+ dateTill +'&start=0'\n",
    "df_url_candles=pd.read_csv(url_candles,sep=';',header=1)\n",
    "print(df_url_candles)\n",
    "print(len(df_url_candles))\n"
   ]
  }
 ],
 "metadata": {
  "interpreter": {
   "hash": "d52dc8c152211a05613afe5459da667f324d87ca37a70a50243aaf6f174e5a08"
  },
  "kernelspec": {
   "display_name": "Python 3.8.3 ('new_env')",
   "language": "python",
   "name": "python3"
  },
  "language_info": {
   "codemirror_mode": {
    "name": "ipython",
    "version": 3
   },
   "file_extension": ".py",
   "mimetype": "text/x-python",
   "name": "python",
   "nbconvert_exporter": "python",
   "pygments_lexer": "ipython3",
   "version": "3.8.3"
  },
  "orig_nbformat": 4
 },
 "nbformat": 4,
 "nbformat_minor": 2
}
